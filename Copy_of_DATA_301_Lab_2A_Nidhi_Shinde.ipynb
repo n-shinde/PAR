{
  "nbformat": 4,
  "nbformat_minor": 0,
  "metadata": {
    "kernelspec": {
      "display_name": "Python 3",
      "language": "python",
      "name": "python3"
    },
    "language_info": {
      "codemirror_mode": {
        "name": "ipython",
        "version": 3
      },
      "file_extension": ".py",
      "mimetype": "text/x-python",
      "name": "python",
      "nbconvert_exporter": "python",
      "pygments_lexer": "ipython3",
      "version": "3.6.8"
    },
    "colab": {
      "provenance": [],
      "include_colab_link": true
    }
  },
  "cells": [
    {
      "cell_type": "markdown",
      "metadata": {
        "id": "view-in-github",
        "colab_type": "text"
      },
      "source": [
        "<a href=\"https://colab.research.google.com/github/n-shinde/PAR/blob/master/Copy_of_DATA_301_Lab_2A_Nidhi_Shinde.ipynb\" target=\"_parent\"><img src=\"https://colab.research.google.com/assets/colab-badge.svg\" alt=\"Open In Colab\"/></a>"
      ]
    },
    {
      "cell_type": "markdown",
      "metadata": {
        "id": "TWcmdY-v6AD1"
      },
      "source": [
        "# Shark Tank\n",
        "\n",
        "_Shark Tank_ is a reality TV show. Contestants present their idea for a company to a panel of investors (a.k.a. \"sharks\"), who then decide whether or not to invest in that company.  The investors give a certain amount of money in exchange for a percentage stake in the company (\"equity\"). If you are not familiar with the show, you may want to watch part of an episode [here](http://abc.go.com/shows/shark-tank) to get a sense of how it works.\n",
        "\n",
        "The data that you will examine in this lab contains data about all contestants from the first 6 seasons of the show, including:\n",
        "- the name and industry of the proposed company\n",
        "- whether or not it was funded (i.e., the \"Deal\" column)\n",
        "- which sharks chose to invest in the venture (N.B. There are 7 regular sharks, not including \"Guest\". Each shark has a column in the data set, labeled by their last name.)\n",
        "- if funded, the amount of money the sharks put in and the percentage equity they got in return\n",
        "\n",
        "To earn full credit on this lab, you should:\n",
        "- use built-in `pandas` methods (like `.sum()` and `.max()`) instead of writing a for loop over a `DataFrame` or `Series`\n",
        "- use the split-apply-combine pattern wherever possible\n",
        "\n",
        "Of course, if you can't think of a vectorized solution, a `for` loop is still better than no solution at all!"
      ]
    },
    {
      "cell_type": "code",
      "metadata": {
        "id": "xWVgjFTV6AD4"
      },
      "source": [
        "import pandas as pd"
      ],
      "execution_count": 3,
      "outputs": []
    },
    {
      "cell_type": "markdown",
      "metadata": {
        "id": "PA8nrH5u6AD7"
      },
      "source": [
        "## Question 0. Getting and Cleaning the Data"
      ]
    },
    {
      "cell_type": "markdown",
      "metadata": {
        "id": "jZkcwwrJ6AD7"
      },
      "source": [
        "The data is stored in the CSV file `https://dlsun.github.io/pods/data/sharktank.csv`. Read in the data into a Pandas `DataFrame`.\n",
        "\n"
      ]
    },
    {
      "cell_type": "code",
      "metadata": {
        "id": "4GvnXJRT6AD8",
        "colab": {
          "base_uri": "https://localhost:8080/",
          "height": 368
        },
        "outputId": "a6aa0dfd-8ed9-4df6-ef3c-b05b101a092b"
      },
      "source": [
        "df_sharktank = pd.read_csv(\"https://dlsun.github.io/pods/data/sharktank.csv\")\n",
        "df_sharktank.set_index([\"Company\"], inplace=True)\n",
        "df_sharktank.head()"
      ],
      "execution_count": 4,
      "outputs": [
        {
          "output_type": "execute_result",
          "data": {
            "text/plain": [
              "                             Season  No. in series Deal           Industry  \\\n",
              "Company                                                                      \n",
              "Ava the Elephant                1.0            1.0  Yes         Healthcare   \n",
              "Mr. Tod's Pie Factory           1.0            1.0  Yes  Food and Beverage   \n",
              "Wispots                         1.0            1.0   No  Business Services   \n",
              "College Foxes Packing Boxes     1.0            1.0   No   Lifestyle / Home   \n",
              "Ionic Ear                       1.0            1.0   No  Uncertain / Other   \n",
              "\n",
              "                            Entrepreneur Gender    Amount Equity  Corcoran  \\\n",
              "Company                                                                      \n",
              "Ava the Elephant                         Female   $50,000    55%       1.0   \n",
              "Mr. Tod's Pie Factory                      Male  $460,000    50%       1.0   \n",
              "Wispots                                    Male       NaN    NaN       NaN   \n",
              "College Foxes Packing Boxes                Male       NaN    NaN       NaN   \n",
              "Ionic Ear                                  Male       NaN    NaN       NaN   \n",
              "\n",
              "                             Cuban  Greiner  Herjavec  John  O'Leary  \\\n",
              "Company                                                                \n",
              "Ava the Elephant               NaN      NaN       NaN   NaN      NaN   \n",
              "Mr. Tod's Pie Factory          NaN      NaN       NaN   1.0      NaN   \n",
              "Wispots                        NaN      NaN       NaN   NaN      NaN   \n",
              "College Foxes Packing Boxes    NaN      NaN       NaN   NaN      NaN   \n",
              "Ionic Ear                      NaN      NaN       NaN   NaN      NaN   \n",
              "\n",
              "                             Harrington  Guest Details / Notes  \n",
              "Company                                                         \n",
              "Ava the Elephant                    NaN    NaN             NaN  \n",
              "Mr. Tod's Pie Factory               NaN    NaN             NaN  \n",
              "Wispots                             NaN    NaN             NaN  \n",
              "College Foxes Packing Boxes         NaN    NaN             NaN  \n",
              "Ionic Ear                           NaN    NaN             NaN  "
            ],
            "text/html": [
              "\n",
              "  <div id=\"df-0c3c0624-9c05-441f-a7f4-c7eca0056d82\">\n",
              "    <div class=\"colab-df-container\">\n",
              "      <div>\n",
              "<style scoped>\n",
              "    .dataframe tbody tr th:only-of-type {\n",
              "        vertical-align: middle;\n",
              "    }\n",
              "\n",
              "    .dataframe tbody tr th {\n",
              "        vertical-align: top;\n",
              "    }\n",
              "\n",
              "    .dataframe thead th {\n",
              "        text-align: right;\n",
              "    }\n",
              "</style>\n",
              "<table border=\"1\" class=\"dataframe\">\n",
              "  <thead>\n",
              "    <tr style=\"text-align: right;\">\n",
              "      <th></th>\n",
              "      <th>Season</th>\n",
              "      <th>No. in series</th>\n",
              "      <th>Deal</th>\n",
              "      <th>Industry</th>\n",
              "      <th>Entrepreneur Gender</th>\n",
              "      <th>Amount</th>\n",
              "      <th>Equity</th>\n",
              "      <th>Corcoran</th>\n",
              "      <th>Cuban</th>\n",
              "      <th>Greiner</th>\n",
              "      <th>Herjavec</th>\n",
              "      <th>John</th>\n",
              "      <th>O'Leary</th>\n",
              "      <th>Harrington</th>\n",
              "      <th>Guest</th>\n",
              "      <th>Details / Notes</th>\n",
              "    </tr>\n",
              "    <tr>\n",
              "      <th>Company</th>\n",
              "      <th></th>\n",
              "      <th></th>\n",
              "      <th></th>\n",
              "      <th></th>\n",
              "      <th></th>\n",
              "      <th></th>\n",
              "      <th></th>\n",
              "      <th></th>\n",
              "      <th></th>\n",
              "      <th></th>\n",
              "      <th></th>\n",
              "      <th></th>\n",
              "      <th></th>\n",
              "      <th></th>\n",
              "      <th></th>\n",
              "      <th></th>\n",
              "    </tr>\n",
              "  </thead>\n",
              "  <tbody>\n",
              "    <tr>\n",
              "      <th>Ava the Elephant</th>\n",
              "      <td>1.0</td>\n",
              "      <td>1.0</td>\n",
              "      <td>Yes</td>\n",
              "      <td>Healthcare</td>\n",
              "      <td>Female</td>\n",
              "      <td>$50,000</td>\n",
              "      <td>55%</td>\n",
              "      <td>1.0</td>\n",
              "      <td>NaN</td>\n",
              "      <td>NaN</td>\n",
              "      <td>NaN</td>\n",
              "      <td>NaN</td>\n",
              "      <td>NaN</td>\n",
              "      <td>NaN</td>\n",
              "      <td>NaN</td>\n",
              "      <td>NaN</td>\n",
              "    </tr>\n",
              "    <tr>\n",
              "      <th>Mr. Tod's Pie Factory</th>\n",
              "      <td>1.0</td>\n",
              "      <td>1.0</td>\n",
              "      <td>Yes</td>\n",
              "      <td>Food and Beverage</td>\n",
              "      <td>Male</td>\n",
              "      <td>$460,000</td>\n",
              "      <td>50%</td>\n",
              "      <td>1.0</td>\n",
              "      <td>NaN</td>\n",
              "      <td>NaN</td>\n",
              "      <td>NaN</td>\n",
              "      <td>1.0</td>\n",
              "      <td>NaN</td>\n",
              "      <td>NaN</td>\n",
              "      <td>NaN</td>\n",
              "      <td>NaN</td>\n",
              "    </tr>\n",
              "    <tr>\n",
              "      <th>Wispots</th>\n",
              "      <td>1.0</td>\n",
              "      <td>1.0</td>\n",
              "      <td>No</td>\n",
              "      <td>Business Services</td>\n",
              "      <td>Male</td>\n",
              "      <td>NaN</td>\n",
              "      <td>NaN</td>\n",
              "      <td>NaN</td>\n",
              "      <td>NaN</td>\n",
              "      <td>NaN</td>\n",
              "      <td>NaN</td>\n",
              "      <td>NaN</td>\n",
              "      <td>NaN</td>\n",
              "      <td>NaN</td>\n",
              "      <td>NaN</td>\n",
              "      <td>NaN</td>\n",
              "    </tr>\n",
              "    <tr>\n",
              "      <th>College Foxes Packing Boxes</th>\n",
              "      <td>1.0</td>\n",
              "      <td>1.0</td>\n",
              "      <td>No</td>\n",
              "      <td>Lifestyle / Home</td>\n",
              "      <td>Male</td>\n",
              "      <td>NaN</td>\n",
              "      <td>NaN</td>\n",
              "      <td>NaN</td>\n",
              "      <td>NaN</td>\n",
              "      <td>NaN</td>\n",
              "      <td>NaN</td>\n",
              "      <td>NaN</td>\n",
              "      <td>NaN</td>\n",
              "      <td>NaN</td>\n",
              "      <td>NaN</td>\n",
              "      <td>NaN</td>\n",
              "    </tr>\n",
              "    <tr>\n",
              "      <th>Ionic Ear</th>\n",
              "      <td>1.0</td>\n",
              "      <td>1.0</td>\n",
              "      <td>No</td>\n",
              "      <td>Uncertain / Other</td>\n",
              "      <td>Male</td>\n",
              "      <td>NaN</td>\n",
              "      <td>NaN</td>\n",
              "      <td>NaN</td>\n",
              "      <td>NaN</td>\n",
              "      <td>NaN</td>\n",
              "      <td>NaN</td>\n",
              "      <td>NaN</td>\n",
              "      <td>NaN</td>\n",
              "      <td>NaN</td>\n",
              "      <td>NaN</td>\n",
              "      <td>NaN</td>\n",
              "    </tr>\n",
              "  </tbody>\n",
              "</table>\n",
              "</div>\n",
              "      <button class=\"colab-df-convert\" onclick=\"convertToInteractive('df-0c3c0624-9c05-441f-a7f4-c7eca0056d82')\"\n",
              "              title=\"Convert this dataframe to an interactive table.\"\n",
              "              style=\"display:none;\">\n",
              "        \n",
              "  <svg xmlns=\"http://www.w3.org/2000/svg\" height=\"24px\"viewBox=\"0 0 24 24\"\n",
              "       width=\"24px\">\n",
              "    <path d=\"M0 0h24v24H0V0z\" fill=\"none\"/>\n",
              "    <path d=\"M18.56 5.44l.94 2.06.94-2.06 2.06-.94-2.06-.94-.94-2.06-.94 2.06-2.06.94zm-11 1L8.5 8.5l.94-2.06 2.06-.94-2.06-.94L8.5 2.5l-.94 2.06-2.06.94zm10 10l.94 2.06.94-2.06 2.06-.94-2.06-.94-.94-2.06-.94 2.06-2.06.94z\"/><path d=\"M17.41 7.96l-1.37-1.37c-.4-.4-.92-.59-1.43-.59-.52 0-1.04.2-1.43.59L10.3 9.45l-7.72 7.72c-.78.78-.78 2.05 0 2.83L4 21.41c.39.39.9.59 1.41.59.51 0 1.02-.2 1.41-.59l7.78-7.78 2.81-2.81c.8-.78.8-2.07 0-2.86zM5.41 20L4 18.59l7.72-7.72 1.47 1.35L5.41 20z\"/>\n",
              "  </svg>\n",
              "      </button>\n",
              "      \n",
              "  <style>\n",
              "    .colab-df-container {\n",
              "      display:flex;\n",
              "      flex-wrap:wrap;\n",
              "      gap: 12px;\n",
              "    }\n",
              "\n",
              "    .colab-df-convert {\n",
              "      background-color: #E8F0FE;\n",
              "      border: none;\n",
              "      border-radius: 50%;\n",
              "      cursor: pointer;\n",
              "      display: none;\n",
              "      fill: #1967D2;\n",
              "      height: 32px;\n",
              "      padding: 0 0 0 0;\n",
              "      width: 32px;\n",
              "    }\n",
              "\n",
              "    .colab-df-convert:hover {\n",
              "      background-color: #E2EBFA;\n",
              "      box-shadow: 0px 1px 2px rgba(60, 64, 67, 0.3), 0px 1px 3px 1px rgba(60, 64, 67, 0.15);\n",
              "      fill: #174EA6;\n",
              "    }\n",
              "\n",
              "    [theme=dark] .colab-df-convert {\n",
              "      background-color: #3B4455;\n",
              "      fill: #D2E3FC;\n",
              "    }\n",
              "\n",
              "    [theme=dark] .colab-df-convert:hover {\n",
              "      background-color: #434B5C;\n",
              "      box-shadow: 0px 1px 3px 1px rgba(0, 0, 0, 0.15);\n",
              "      filter: drop-shadow(0px 1px 2px rgba(0, 0, 0, 0.3));\n",
              "      fill: #FFFFFF;\n",
              "    }\n",
              "  </style>\n",
              "\n",
              "      <script>\n",
              "        const buttonEl =\n",
              "          document.querySelector('#df-0c3c0624-9c05-441f-a7f4-c7eca0056d82 button.colab-df-convert');\n",
              "        buttonEl.style.display =\n",
              "          google.colab.kernel.accessAllowed ? 'block' : 'none';\n",
              "\n",
              "        async function convertToInteractive(key) {\n",
              "          const element = document.querySelector('#df-0c3c0624-9c05-441f-a7f4-c7eca0056d82');\n",
              "          const dataTable =\n",
              "            await google.colab.kernel.invokeFunction('convertToInteractive',\n",
              "                                                     [key], {});\n",
              "          if (!dataTable) return;\n",
              "\n",
              "          const docLinkHtml = 'Like what you see? Visit the ' +\n",
              "            '<a target=\"_blank\" href=https://colab.research.google.com/notebooks/data_table.ipynb>data table notebook</a>'\n",
              "            + ' to learn more about interactive tables.';\n",
              "          element.innerHTML = '';\n",
              "          dataTable['output_type'] = 'display_data';\n",
              "          await google.colab.output.renderOutput(dataTable, element);\n",
              "          const docLink = document.createElement('div');\n",
              "          docLink.innerHTML = docLinkHtml;\n",
              "          element.appendChild(docLink);\n",
              "        }\n",
              "      </script>\n",
              "    </div>\n",
              "  </div>\n",
              "  "
            ]
          },
          "metadata": {},
          "execution_count": 4
        }
      ]
    },
    {
      "cell_type": "markdown",
      "metadata": {
        "id": "OvCrC2ho6AEA"
      },
      "source": [
        "There is one column for each of the sharks. A 1 indicates that they chose to invest in that company, while a missing value indicates that they did not choose to invest in that company. Notice that these missing values show up as NaNs when we read in the data. Fill in these missing values with zeros. Other columns may also contain NaNs; be careful not to fill those columns with zeros, or you may end up with strange results down the line."
      ]
    },
    {
      "cell_type": "code",
      "metadata": {
        "id": "wtIkax6c6AEB",
        "colab": {
          "base_uri": "https://localhost:8080/"
        },
        "outputId": "1a9dcd21-cac1-4d28-b6c2-b7eba058676c"
      },
      "source": [
        "df_sharktank[\"Corcoran\"].fillna(0)\n",
        "df_sharktank[\"Cuban\"].fillna(0)\n",
        "df_sharktank[\"Greiner\"].fillna(0)\n",
        "df_sharktank[\"Herjavec\"].fillna(0)\n",
        "df_sharktank[\"John\"].fillna(0)\n",
        "df_sharktank[\"O'Leary\"].fillna(0)\n",
        "df_sharktank[\"Harrington\"].fillna(0)\n",
        "df_sharktank[\"Guest\"].fillna(0)"
      ],
      "execution_count": 5,
      "outputs": [
        {
          "output_type": "execute_result",
          "data": {
            "text/plain": [
              "Company\n",
              "Ava the Elephant               0.0\n",
              "Mr. Tod's Pie Factory          0.0\n",
              "Wispots                        0.0\n",
              "College Foxes Packing Boxes    0.0\n",
              "Ionic Ear                      0.0\n",
              "                              ... \n",
              "You Kick Ass                   0.0\n",
              "Shark Wheel                    1.0\n",
              "Gato Cafe                      0.0\n",
              "Sway Motorsports               0.0\n",
              "Spikeball                      0.0\n",
              "Name: Guest, Length: 495, dtype: float64"
            ]
          },
          "metadata": {},
          "execution_count": 5
        }
      ]
    },
    {
      "cell_type": "markdown",
      "metadata": {
        "id": "b8FlEYg76AED"
      },
      "source": [
        "Notice that Amount and Equity are currently being treated as categorical variables (`dtype: object`). Can you figure out why this is? Clean up these columns and cast them to numeric types (i.e., a `dtype` of `int` or `float`) because we'll need to perform mathematical operations on these columns."
      ]
    },
    {
      "cell_type": "code",
      "metadata": {
        "id": "F37ulZeb6AEE"
      },
      "source": [
        "# Amount and equity are being treated as categorical variables \n",
        "#   because there are special symbols included with each numerical value ($/%)\n",
        "\n",
        "# Remove special characters\n",
        "df_sharktank[\"Amount\"] = df_sharktank[\"Amount\"].astype(str).str.replace(\"$\", \"\", regex = True)\n",
        "df_sharktank[\"Amount\"] = df_sharktank[\"Amount\"].astype(str).str.replace(\",\", \"\", regex = True)\n",
        "df_sharktank[\"Amount\"] = df_sharktank[\"Amount\"].fillna(0)\n",
        "df_sharktank[\"Amount\"] = df_sharktank[\"Amount\"].astype(float)\n",
        "\n",
        "\n",
        "df_sharktank[\"Equity\"] = df_sharktank[\"Equity\"].astype(str).str.replace(\"%\", \"\", regex = True)\n",
        "df_sharktank[\"Equity\"] = df_sharktank[\"Equity\"].fillna(0)\n",
        "df_sharktank[\"Equity\"] = df_sharktank[\"Equity\"].astype(float)"
      ],
      "execution_count": 7,
      "outputs": []
    },
    {
      "cell_type": "markdown",
      "metadata": {
        "id": "zXjBDsQl6AEH"
      },
      "source": [
        "## Question 1. Which Company was Worth the Most?"
      ]
    },
    {
      "cell_type": "markdown",
      "metadata": {
        "id": "dFvKv4QJ6AEI"
      },
      "source": [
        "The valuation of a company is how much it is worth. If someone invests \\$10,000 for a 40% equity stake in the company, then this means the company must be valued at \\$25,000, since 40% of \\$25,000 is \\$10,000.\n",
        "\n",
        "Calculate the valuation of each company that was funded. Which company was most valuable? Is it the same as the company that received the largest total investment from the sharks?"
      ]
    },
    {
      "cell_type": "code",
      "metadata": {
        "id": "Hw6xcTSz6AEJ",
        "colab": {
          "base_uri": "https://localhost:8080/"
        },
        "outputId": "839fc244-95ee-45fe-9ca7-ef6f25d57c5a"
      },
      "source": [
        "df_sharktank[\"Valuation\"] = df_sharktank[\"Amount\"].divide(0.01*(df_sharktank[\"Equity\"]))\n",
        "# Used nlargest() to find highest value that isn't inf\n",
        "df_sharktank[\"Valuation\"].nlargest(10) \n",
        "\n",
        "# Zipz is the most valuable at an evaluation of $25,000,000.\n",
        "\n",
        "# Check to see which company got max investment\n",
        "df_sharktank[\"Amount\"].nlargest(2) # How to find company name given max we found with .max()?\n",
        "# df_sharktank[\"Amount\"].idxmax() # Can also use this to get ID of max\n",
        "\n",
        "# Air Car got the largest total investment at $5,000,000, but it wasn't the most valuable company."
      ],
      "execution_count": 8,
      "outputs": [
        {
          "output_type": "execute_result",
          "data": {
            "text/plain": [
              "Company\n",
              "AirCar           5000000.0\n",
              "SynDaver Labs    3000000.0\n",
              "Name: Amount, dtype: float64"
            ]
          },
          "metadata": {},
          "execution_count": 8
        }
      ]
    },
    {
      "cell_type": "markdown",
      "metadata": {
        "id": "ZxATH5XX6AEL"
      },
      "source": [
        "Zipz was the most valuable company at an evaluation of \\$25,000,000.  Although AirCar received the largest total investment of \\$5,000,000, they were not considered to be the most valuable company; this is probably because a higher equity decreases the company's evaluation."
      ]
    },
    {
      "cell_type": "markdown",
      "metadata": {
        "id": "ADyYjzcf6AEM"
      },
      "source": [
        "## Question 2. Which Shark Invested the Most?"
      ]
    },
    {
      "cell_type": "markdown",
      "metadata": {
        "id": "Q1aeyu6v6AEM"
      },
      "source": [
        "Calculate the total amount of money that each shark invested over the 6 seasons. Which shark invested the most total money over the 6 seasons?\n",
        "\n",
        "_Hint:_ If $n$ sharks funded a given venture, then the amount that each shark invested is the total amount divided by $n$."
      ]
    },
    {
      "cell_type": "code",
      "metadata": {
        "id": "a5MrleWP6AEN",
        "colab": {
          "base_uri": "https://localhost:8080/"
        },
        "outputId": "84e3ca8e-1e66-46dd-8ea8-b649f74e4e4f"
      },
      "source": [
        "names = [\"Corcoran\", \"Greiner\", \"Herjavec\", \"John\", \"O\\'Leary\", \"Harrington\", \"Guest\"]\n",
        "df_sharktank[\"Num_Invested\"] = df_sharktank[names].sum(axis = 1)\n",
        "df_sharktank[\"Individual_Amount\"] = df_sharktank[\"Amount\"].divide(df_sharktank[\"Num_Invested\"])\n",
        "df_money = df_sharktank[df_sharktank[\"Num_Invested\"] != 0]\n",
        "top_shark = df_money[names].multiply(df_money[\"Amount\"], axis = 0).sum().max()\n",
        "top_shark\n",
        "\n",
        "# How to find shark that corresponds with this?"
      ],
      "execution_count": 31,
      "outputs": [
        {
          "output_type": "execute_result",
          "data": {
            "text/plain": [
              "21875000.0"
            ]
          },
          "metadata": {},
          "execution_count": 31
        }
      ]
    },
    {
      "cell_type": "markdown",
      "metadata": {
        "id": "Dj9nfLVm6AEQ"
      },
      "source": [
        "**YOUR EXPLANATION HERE**"
      ]
    },
    {
      "cell_type": "markdown",
      "metadata": {
        "id": "0YCCe77s6AEQ"
      },
      "source": [
        "## Question 3. Do the Sharks Prefer Certain Industries?\n",
        "\n",
        "Calculate the funding rate (the proportion of companies that were funded) for each industry. Make a visualization showing this information."
      ]
    },
    {
      "cell_type": "code",
      "metadata": {
        "id": "bM_rL2Og6AER",
        "colab": {
          "base_uri": "https://localhost:8080/",
          "height": 402
        },
        "outputId": "2f43804b-6734-450c-c439-53d593110e7a"
      },
      "source": [
        "industries = [\"Food and Beverage\", \"Fashion / Beauty\", \"Lifestyle / Home\", \"Children / Education\",\n",
        "              \"Fitness / Sports\", \"Software / Tech\", \"Consumer Products\", \"Healthcare\",\n",
        "              \"Pet Products\", \"Business Services\", \"Uncertain / Other\", \"Media / Entertainment\",\n",
        "              \"Green/CleanTech\"]\n",
        "\n",
        "df_sharktank[\"Deal_Num\"] = df_sharktank[\"Deal\"].map({\n",
        "    \"Yes\":1,\n",
        "    \"No\":0\n",
        "})\n",
        "\n",
        "df_sorted_shark = df_sharktank.sort_values(by = \"Industry\")\n",
        "df_total = df_sorted_shark[\"Industry\"].value_counts(sort = False)\n",
        "\n",
        "df_deal = df_sharktank[df_sharktank[\"Deal\"] == \"Yes\"]\n",
        "df_deal_by_industry = df_deal.groupby(\"Industry\")[\"Deal_Num\"].sum()\n",
        "\n",
        "df_funding_rate = df_deal_by_industry.divide(df_total)\n",
        "df_funding_rate\n",
        "df_funding_rate.plot.bar()"
      ],
      "execution_count": 69,
      "outputs": [
        {
          "output_type": "execute_result",
          "data": {
            "text/plain": [
              "<matplotlib.axes._subplots.AxesSubplot at 0x7f24b22dc8b0>"
            ]
          },
          "metadata": {},
          "execution_count": 69
        },
        {
          "output_type": "display_data",
          "data": {
            "text/plain": [
              "<Figure size 432x288 with 1 Axes>"
            ],
            "image/png": "[encoded data removed]"
          },
          "metadata": {
            "needs_background": "light"
          }
        }
      ]
    },
    {
      "cell_type": "markdown",
      "metadata": {
        "id": "pEjLlugf6AET"
      },
      "source": [
        "The industry with the highest funding rate was Sports/Fitness at around 57.5%, while the industry with the lowest funding rate was Business Services at just 23.1%. "
      ]
    },
    {
      "cell_type": "markdown",
      "metadata": {
        "id": "hWkCOchf6AEU"
      },
      "source": [
        "## Submission Instructions\n",
        "\n",
        "- Copy this notebook to your own Drive, if you have not already.\n",
        "- Restart this notebook and run the cells from beginning to end. \n",
        "  - Go to Runtime > Restart and Run All.\n",
        "- Rename this notebook by clicking on \"DATA 301 Lab 2A - YOUR NAMES HERE\" at the very top of this page. Replace \"YOUR NAMES HERE\" with the first and last names of you (and your partners, for Phase 2).\n",
        "- Get the link to your notebook:\n",
        "  - Click on \"Share\" at the top-right. \n",
        "  - Change the settings to \"Anyone with the link can view\". \n",
        "  - Copy the sharing link into Canvas."
      ]
    }
  ]
}